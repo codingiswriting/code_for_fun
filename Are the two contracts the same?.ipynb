{
 "cells": [
  {
   "cell_type": "markdown",
   "metadata": {},
   "source": [
    "# Are the two contracts the same? Simple string function can help you.\n",
    "### My cousin Tom signed a contract with company B. But there is a name-typo in the contract and both my cousin and B didn't find it until yesterday. Obviously, this typo is more serious than we thought and B immeditaley issued a new contract to Tom and asked him to sign. Tom, though beliving in the bona fide of B, asked me if I can double check if everything in the contract remains the same except for that typo mistake. In other words, he wants to know if the only difference between the two contract is the modified name. With the little knowledge I have regarding python, I gave it a try.\n",
    "\n",
    "My basic logic is: You treat the whole contract as a whole string and split both the old contract and new contract into two words list by using string.split() function. Then you use index function to ask Python to find out if every word is the same except for the name. So, you can find my code below: please let me know if you have any suggestions."
   ]
  },
  {
   "cell_type": "code",
   "execution_count": 192,
   "metadata": {},
   "outputs": [],
   "source": [
    "#Step 1: I turn two contract into two string by using copy and paste. \n",
    "# Here I made up two strings only as example. The typo mistake is Tomy and the correct spelling is Tom\n",
    "# Also, it's better to use \"\"\"\"\"\" and not \"\" because there may be quotes in your contract string.\n",
    "old_contract = \"\"\"Tomy will not be liable for any damage caused by his mistakes unless such mistakes are foreseeable\n",
    "by a reasonable people in Tomy's position.\"\"\"\n",
    "new_contract = \"\"\"Tom will not be liable for any damage caused by his mistakes unless such mistakes are foreseeable\n",
    "by a reasonable people in Tom's position.\"\"\"\n"
   ]
  },
  {
   "cell_type": "code",
   "execution_count": 194,
   "metadata": {},
   "outputs": [],
   "source": [
    "# Step 2: turn both strings into list\n",
    "old_contract_list = old_contract.split()\n",
    "new_contract_list = new_contract.split()\n"
   ]
  },
  {
   "cell_type": "code",
   "execution_count": 196,
   "metadata": {},
   "outputs": [
    {
     "name": "stdout",
     "output_type": "stream",
     "text": [
      "24 24\n"
     ]
    }
   ],
   "source": [
    "# step 3: we want to compare each word/symbols in the two lists and see if anything is different. \n",
    "# to do so, I want to use index of each list. So, I need first to know how many items are there in the two lists\n",
    "\n",
    "index_old = len(old_contract_list)\n",
    "index_new = len(new_contract_list)\n",
    "print (index_old, index_new)"
   ]
  },
  {
   "cell_type": "code",
   "execution_count": 198,
   "metadata": {},
   "outputs": [
    {
     "name": "stdout",
     "output_type": "stream",
     "text": [
      "Change noted: the 0 items of new contract is changed from Tomy to Tom\n",
      "Change noted: the 22 items of new contract is changed from Tomy's to Tom's\n"
     ]
    }
   ],
   "source": [
    "# So now we start comparing\n",
    "for n in range(24):\n",
    "    if old_contract_list[n] == new_contract_list[n]:\n",
    "        pass\n",
    "    else:\n",
    "        print (\"Change noted: the\",n, \"items of new contract is changed from\",old_contract_list[n], \"to\", new_contract_list[n])"
   ]
  },
  {
   "cell_type": "markdown",
   "metadata": {},
   "source": [
    "### Summary\n",
    "\n",
    "This is a simple way to check if two strings are the same and this application is simply and much more efficient\n",
    "than using our human-eyes.\n",
    "\n",
    "### Limitations\n",
    "This coding is seriously limited to the following condition:\n",
    "\n",
    "As you see above, the legnth of the two lists are the same, which is a good sign implying that there are no additional words added to the contract. But when I was doing it to the two contract, the lengthes were different because the way I created the string is to simply copy them directly from the pdf and paste directly in the string quotes \"\"\"\"\"\". As you can imagine, the space \" \", the next_line \\n are all counted and therefore influence the legnth. So, I decided to copy one page at a time. Each time I did so, I need to check if the format between the two contract page look the same. I repeated this work for 30 times. YES it sounds a lot and took me around 20 mins. But it is seriously more efficient and useful than using our human-eyes to check word by word."
   ]
  },
  {
   "cell_type": "code",
   "execution_count": null,
   "metadata": {},
   "outputs": [],
   "source": []
  }
 ],
 "metadata": {
  "kernelspec": {
   "display_name": "Python [conda env:python3_env]",
   "language": "python",
   "name": "conda-env-python3_env-py"
  },
  "language_info": {
   "codemirror_mode": {
    "name": "ipython",
    "version": 3
   },
   "file_extension": ".py",
   "mimetype": "text/x-python",
   "name": "python",
   "nbconvert_exporter": "python",
   "pygments_lexer": "ipython3",
   "version": "3.6.4"
  }
 },
 "nbformat": 4,
 "nbformat_minor": 2
}
